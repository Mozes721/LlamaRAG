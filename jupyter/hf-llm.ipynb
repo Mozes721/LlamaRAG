{
 "cells": [
  {
   "cell_type": "code",
   "execution_count": 1,
   "metadata": {},
   "outputs": [
    {
     "name": "stderr",
     "output_type": "stream",
     "text": [
      "/Users/richardtaujenis/rtaujenis/personal_projects/LlamaRAG/.venv/lib/python3.13/site-packages/tqdm/auto.py:21: TqdmWarning: IProgress not found. Please update jupyter and ipywidgets. See https://ipywidgets.readthedocs.io/en/stable/user_install.html\n",
      "  from .autonotebook import tqdm as notebook_tqdm\n"
     ]
    }
   ],
   "source": [
    "import os\n",
    "from dotenv import load_dotenv\n",
    "from sentence_transformers import SentenceTransformer\n",
    "from pinecone import (\n",
    "    Pinecone\n",
    ")\n",
    "\n",
    "class EmbeddingStockMapper:\n",
    "    def __init__(self, model_name: str, pinecone_api_key: str):\n",
    "        # Initialize the embedding model\n",
    "        self.model = SentenceTransformer(model_name)\n",
    "        \n",
    "        pc = Pinecone(api_key=pinecone_api_key)\n",
    "        self.index = pc.Index(\"stock-index\")\n",
    "        \n",
    "    def get_stock_ticker(self, query):\n",
    "        # Get embedding for the query\n",
    "        query_embedding = self.model.encode(query, convert_to_numpy=True)\n",
    "        \n",
    "        # Search in Pinecone\n",
    "        results = self.index.query(\n",
    "            vector=query_embedding.tolist(),\n",
    "            top_k=1,\n",
    "            include_metadata=True\n",
    "        )\n",
    "        \n",
    "        if results.matches:\n",
    "            return results.matches[0].metadata['ticker']\n",
    "        return None\n",
    "\n",
    "# Initialize the mapper\n",
    "load_dotenv()\n",
    "pc_api_key= os.getenv(\"PINECONE_API_KEY\")\n",
    "mapper = EmbeddingStockMapper(model_name=\"all-MiniLM-L6-v2\", pinecone_api_key=pc_api_key)"
   ]
  },
  {
   "cell_type": "code",
   "execution_count": 2,
   "metadata": {},
   "outputs": [
    {
     "name": "stdout",
     "output_type": "stream",
     "text": [
      "Query: AAPL -> Ticker: AAPL\n",
      "Query: Apple Inc. -> Ticker: AAPL\n",
      "Query: apple -> Ticker: AAPL\n",
      "Query: What is the current stock price of Tesla. -> Ticker: TSLA\n",
      "Query: Google -> Ticker: GOOGL\n",
      "Query: google -> Ticker: GOOGL\n",
      "Query: TSLA -> Ticker: TSLA\n",
      "Query: Tesla -> Ticker: TSLA\n",
      "Query: tesla -> Ticker: TSLA\n",
      "Query: Microsoft Corporation -> Ticker: MSFT\n",
      "Query: microsoft -> Ticker: MSFT\n"
     ]
    }
   ],
   "source": [
    "test_queries = [\"AAPL\", \"Apple Inc.\", \"apple\", \"What is the current stock price of Tesla.\", \"Google\", \"google\", \"TSLA\", \"Tesla\", \"tesla\", \"Microsoft Corporation\", \"microsoft\"]\n",
    "\n",
    "for query in test_queries:\n",
    "    ticker = mapper.get_stock_ticker(query)\n",
    "    print(f\"Query: {query} -> Ticker: {ticker}\")"
   ]
  },
  {
   "cell_type": "code",
   "execution_count": 4,
   "metadata": {},
   "outputs": [],
   "source": [
    "import os\n",
    "from dotenv import load_dotenv\n",
    "from sentence_transformers import SentenceTransformer\n",
    "from pinecone import (\n",
    "    Pinecone\n",
    ")\n",
    "\n",
    "class EmbeddingCryptoMapper:\n",
    "    def __init__(self, model_name: str, pinecone_api_key: str):\n",
    "        # Initialize the embedding model\n",
    "        self.model = SentenceTransformer(model_name)\n",
    "\n",
    "        pc = Pinecone(api_key=pinecone_api_key)\n",
    "        self.index = pc.Index(\"crypto-index\")\n",
    "\n",
    "    def get_crypto_ticker(self, query):\n",
    "        # Get embedding for the query\n",
    "        query_embedding = self.model.encode(query, convert_to_numpy=True)\n",
    "\n",
    "           # Search in Pinecone\n",
    "        results = self.index.query(\n",
    "            vector=query_embedding.tolist(),\n",
    "            top_k=1,\n",
    "            include_metadata=True\n",
    "        )\n",
    "        \n",
    "        if results.matches:\n",
    "            return results.matches[0].metadata['ticker']\n",
    "        return None\n",
    "\n",
    "# Initialize the mapper\n",
    "load_dotenv()\n",
    "pc_api_key= os.getenv(\"PINECONE_API_KEY\")\n",
    "mapper = EmbeddingCryptoMapper(model_name=\"all-MiniLM-L6-v2\", pinecone_api_key=pc_api_key)"
   ]
  },
  {
   "cell_type": "code",
   "execution_count": 8,
   "metadata": {},
   "outputs": [
    {
     "name": "stdout",
     "output_type": "stream",
     "text": [
      "Query: BTC -> Ticker: BTC\n",
      "Query: bitcoin -> Ticker: BTC\n",
      "Query: Do you know the price of cardano? -> Ticker: ADA\n",
      "Query: What is current cost of ETH -> Ticker: ETH\n",
      "Query: solana -> Ticker: SOL\n",
      "Query: SOL -> Ticker: SOL\n",
      "Query: Do you know the price of solana? -> Ticker: SOLKIT\n"
     ]
    }
   ],
   "source": [
    "test_queries = [\"BTC\", \"bitcoin\", \"Do you know the price of cardano?\", \"What is current cost of ETH\", \"solana\", \"SOL\", \"Do you know the price of solana?\"]\n",
    "\n",
    "for query in test_queries:\n",
    "    ticker = mapper.get_crypto_ticker(query)\n",
    "    print(f\"Query: {query} -> Ticker: {ticker}\")"
   ]
  },
  {
   "cell_type": "code",
   "execution_count": null,
   "metadata": {},
   "outputs": [],
   "source": []
  }
 ],
 "metadata": {
  "kernelspec": {
   "display_name": ".venv",
   "language": "python",
   "name": "python3"
  },
  "language_info": {
   "codemirror_mode": {
    "name": "ipython",
    "version": 3
   },
   "file_extension": ".py",
   "mimetype": "text/x-python",
   "name": "python",
   "nbconvert_exporter": "python",
   "pygments_lexer": "ipython3",
   "version": "3.13.2"
  }
 },
 "nbformat": 4,
 "nbformat_minor": 2
}
